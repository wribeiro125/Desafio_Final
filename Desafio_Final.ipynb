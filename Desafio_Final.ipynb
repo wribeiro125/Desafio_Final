{
  "nbformat": 4,
  "nbformat_minor": 0,
  "metadata": {
    "colab": {
      "name": "Desafio Final",
      "provenance": []
    },
    "kernelspec": {
      "name": "python3",
      "display_name": "Python 3"
    }
  },
  "cells": [
    {
      "cell_type": "markdown",
      "metadata": {
        "id": "3phP2hF_NViw"
      },
      "source": [
        "# **Enunciado**\n",
        "Para todo engenheiro de Machine Learning é fundamental que todos os 7 passos para\n",
        "construção de uma solução sejam seguidos. Nesse sentido, saber percorrer todas essas\n",
        "etapas e, ao final, identificar a melhor estratégia é papel primordial para esse profissional.\n",
        "Neste desafio final, vamos empregar boa parte dos conceitos mostrados no decorrer de\n",
        "todos os módulos do bootcamp para a análise e a classificação de veículos do conhecido\n",
        "dataset “cars”. Esse dataset contém um conjunto de informações sobre vários veículos\n",
        "pesquisados. Existem dados, por exemplo, sobre a potência do veículo, sobre a origem e\n",
        "cilindradas cúbicas. \n",
        "Para essa análise, vamos empregar os conceitos de redução da dimensionalidade com o\n",
        "PCA, clusterização com o K-Means e classificações com algoritmos supervisionados. "
      ]
    },
    {
      "cell_type": "markdown",
      "metadata": {
        "id": "VgzOwudJPAcQ"
      },
      "source": [
        "# **Atividades:**"
      ]
    },
    {
      "cell_type": "markdown",
      "metadata": {
        "id": "x7bitJjsPDTR"
      },
      "source": [
        ""
      ]
    },
    {
      "cell_type": "code",
      "metadata": {
        "id": "qNl2GlvgNIIU"
      },
      "source": [
        "import pandas as pd #biblioteca para manipulação de dados\n",
        "import numpy as np #biblioteca para utilizacao de vetores e matrizes\n",
        "import matplotlib.pyplot as plt #bibloteca para plotar graficos\n",
        "import seaborn as sns #gráficos mais sofisticados"
      ],
      "execution_count": null,
      "outputs": []
    },
    {
      "cell_type": "code",
      "metadata": {
        "id": "Wx4KeaF3NXPJ",
        "colab": {
          "base_uri": "https://localhost:8080/"
        },
        "outputId": "0a7df913-16f3-49b2-93a8-bdb70bfc1cc1"
      },
      "source": [
        "#liberando acesso do colab aos arquivos no drive\n",
        "from google.colab import drive\n",
        "drive.mount('/content/gdrive')"
      ],
      "execution_count": null,
      "outputs": [
        {
          "output_type": "stream",
          "text": [
            "Mounted at /content/gdrive\n"
          ],
          "name": "stdout"
        }
      ]
    },
    {
      "cell_type": "code",
      "metadata": {
        "id": "ONzss1ErObwa",
        "colab": {
          "base_uri": "https://localhost:8080/"
        },
        "outputId": "294e75bb-495b-41d7-a7e8-9ff5681d2ec2"
      },
      "source": [
        "cars = pd.read_csv('/content/gdrive/My Drive/Datasets/cars.csv')\n",
        "cars.head()"
      ],
      "execution_count": null,
      "outputs": [
        {
          "output_type": "execute_result",
          "data": {
            "text/html": [
              "<div>\n",
              "<style scoped>\n",
              "    .dataframe tbody tr th:only-of-type {\n",
              "        vertical-align: middle;\n",
              "    }\n",
              "\n",
              "    .dataframe tbody tr th {\n",
              "        vertical-align: top;\n",
              "    }\n",
              "\n",
              "    .dataframe thead th {\n",
              "        text-align: right;\n",
              "    }\n",
              "</style>\n",
              "<table border=\"1\" class=\"dataframe\">\n",
              "  <thead>\n",
              "    <tr style=\"text-align: right;\">\n",
              "      <th></th>\n",
              "      <th>mpg</th>\n",
              "      <th>cylinders</th>\n",
              "      <th>cubicinches</th>\n",
              "      <th>hp</th>\n",
              "      <th>weightlbs</th>\n",
              "      <th>time-to-60</th>\n",
              "      <th>year</th>\n",
              "      <th>brand</th>\n",
              "    </tr>\n",
              "  </thead>\n",
              "  <tbody>\n",
              "    <tr>\n",
              "      <th>0</th>\n",
              "      <td>14.0</td>\n",
              "      <td>8</td>\n",
              "      <td>350</td>\n",
              "      <td>165</td>\n",
              "      <td>4209</td>\n",
              "      <td>12</td>\n",
              "      <td>1972</td>\n",
              "      <td>US.</td>\n",
              "    </tr>\n",
              "    <tr>\n",
              "      <th>1</th>\n",
              "      <td>31.9</td>\n",
              "      <td>4</td>\n",
              "      <td>89</td>\n",
              "      <td>71</td>\n",
              "      <td>1925</td>\n",
              "      <td>14</td>\n",
              "      <td>1980</td>\n",
              "      <td>Europe.</td>\n",
              "    </tr>\n",
              "    <tr>\n",
              "      <th>2</th>\n",
              "      <td>17.0</td>\n",
              "      <td>8</td>\n",
              "      <td>302</td>\n",
              "      <td>140</td>\n",
              "      <td>3449</td>\n",
              "      <td>11</td>\n",
              "      <td>1971</td>\n",
              "      <td>US.</td>\n",
              "    </tr>\n",
              "    <tr>\n",
              "      <th>3</th>\n",
              "      <td>15.0</td>\n",
              "      <td>8</td>\n",
              "      <td>400</td>\n",
              "      <td>150</td>\n",
              "      <td>3761</td>\n",
              "      <td>10</td>\n",
              "      <td>1971</td>\n",
              "      <td>US.</td>\n",
              "    </tr>\n",
              "    <tr>\n",
              "      <th>4</th>\n",
              "      <td>30.5</td>\n",
              "      <td>4</td>\n",
              "      <td>98</td>\n",
              "      <td>63</td>\n",
              "      <td>2051</td>\n",
              "      <td>17</td>\n",
              "      <td>1978</td>\n",
              "      <td>US.</td>\n",
              "    </tr>\n",
              "  </tbody>\n",
              "</table>\n",
              "</div>"
            ],
            "text/plain": [
              "    mpg  cylinders cubicinches   hp weightlbs  time-to-60  year     brand\n",
              "0  14.0          8         350  165      4209          12  1972       US.\n",
              "1  31.9          4          89   71      1925          14  1980   Europe.\n",
              "2  17.0          8         302  140      3449          11  1971       US.\n",
              "3  15.0          8         400  150      3761          10  1971       US.\n",
              "4  30.5          4          98   63      2051          17  1978       US."
            ]
          },
          "metadata": {
            "tags": []
          },
          "execution_count": 3
        }
      ]
    },
    {
      "cell_type": "code",
      "metadata": {
        "id": "OR3ysz-NOz9B",
        "colab": {
          "base_uri": "https://localhost:8080/"
        },
        "outputId": "fab6207e-ed45-4340-8fb2-65eed43c8d05"
      },
      "source": [
        "cars.info()"
      ],
      "execution_count": null,
      "outputs": [
        {
          "output_type": "stream",
          "text": [
            "<class 'pandas.core.frame.DataFrame'>\n",
            "RangeIndex: 261 entries, 0 to 260\n",
            "Data columns (total 8 columns):\n",
            " #   Column       Non-Null Count  Dtype  \n",
            "---  ------       --------------  -----  \n",
            " 0   mpg          261 non-null    float64\n",
            " 1   cylinders    261 non-null    int64  \n",
            " 2   cubicinches  261 non-null    object \n",
            " 3   hp           261 non-null    int64  \n",
            " 4   weightlbs    261 non-null    object \n",
            " 5   time-to-60   261 non-null    int64  \n",
            " 6   year         261 non-null    int64  \n",
            " 7   brand        261 non-null    object \n",
            "dtypes: float64(1), int64(4), object(3)\n",
            "memory usage: 16.4+ KB\n"
          ],
          "name": "stdout"
        }
      ]
    },
    {
      "cell_type": "code",
      "metadata": {
        "id": "NG0XSbiyclvT",
        "colab": {
          "base_uri": "https://localhost:8080/"
        },
        "outputId": "8e2040a0-a61c-4be7-b695-39eb82ce4989"
      },
      "source": [
        "cars.describe()"
      ],
      "execution_count": null,
      "outputs": [
        {
          "output_type": "execute_result",
          "data": {
            "text/html": [
              "<div>\n",
              "<style scoped>\n",
              "    .dataframe tbody tr th:only-of-type {\n",
              "        vertical-align: middle;\n",
              "    }\n",
              "\n",
              "    .dataframe tbody tr th {\n",
              "        vertical-align: top;\n",
              "    }\n",
              "\n",
              "    .dataframe thead th {\n",
              "        text-align: right;\n",
              "    }\n",
              "</style>\n",
              "<table border=\"1\" class=\"dataframe\">\n",
              "  <thead>\n",
              "    <tr style=\"text-align: right;\">\n",
              "      <th></th>\n",
              "      <th>mpg</th>\n",
              "      <th>cylinders</th>\n",
              "      <th>hp</th>\n",
              "      <th>time-to-60</th>\n",
              "      <th>year</th>\n",
              "    </tr>\n",
              "  </thead>\n",
              "  <tbody>\n",
              "    <tr>\n",
              "      <th>count</th>\n",
              "      <td>261.000000</td>\n",
              "      <td>261.000000</td>\n",
              "      <td>261.000000</td>\n",
              "      <td>261.000000</td>\n",
              "      <td>261.000000</td>\n",
              "    </tr>\n",
              "    <tr>\n",
              "      <th>mean</th>\n",
              "      <td>23.144828</td>\n",
              "      <td>5.590038</td>\n",
              "      <td>106.360153</td>\n",
              "      <td>15.547893</td>\n",
              "      <td>1976.819923</td>\n",
              "    </tr>\n",
              "    <tr>\n",
              "      <th>std</th>\n",
              "      <td>7.823570</td>\n",
              "      <td>1.733310</td>\n",
              "      <td>40.499959</td>\n",
              "      <td>2.910625</td>\n",
              "      <td>3.637696</td>\n",
              "    </tr>\n",
              "    <tr>\n",
              "      <th>min</th>\n",
              "      <td>10.000000</td>\n",
              "      <td>3.000000</td>\n",
              "      <td>46.000000</td>\n",
              "      <td>8.000000</td>\n",
              "      <td>1971.000000</td>\n",
              "    </tr>\n",
              "    <tr>\n",
              "      <th>25%</th>\n",
              "      <td>16.900000</td>\n",
              "      <td>4.000000</td>\n",
              "      <td>75.000000</td>\n",
              "      <td>14.000000</td>\n",
              "      <td>1974.000000</td>\n",
              "    </tr>\n",
              "    <tr>\n",
              "      <th>50%</th>\n",
              "      <td>22.000000</td>\n",
              "      <td>6.000000</td>\n",
              "      <td>95.000000</td>\n",
              "      <td>16.000000</td>\n",
              "      <td>1977.000000</td>\n",
              "    </tr>\n",
              "    <tr>\n",
              "      <th>75%</th>\n",
              "      <td>28.800000</td>\n",
              "      <td>8.000000</td>\n",
              "      <td>138.000000</td>\n",
              "      <td>17.000000</td>\n",
              "      <td>1980.000000</td>\n",
              "    </tr>\n",
              "    <tr>\n",
              "      <th>max</th>\n",
              "      <td>46.600000</td>\n",
              "      <td>8.000000</td>\n",
              "      <td>230.000000</td>\n",
              "      <td>25.000000</td>\n",
              "      <td>1983.000000</td>\n",
              "    </tr>\n",
              "  </tbody>\n",
              "</table>\n",
              "</div>"
            ],
            "text/plain": [
              "              mpg   cylinders          hp  time-to-60         year\n",
              "count  261.000000  261.000000  261.000000  261.000000   261.000000\n",
              "mean    23.144828    5.590038  106.360153   15.547893  1976.819923\n",
              "std      7.823570    1.733310   40.499959    2.910625     3.637696\n",
              "min     10.000000    3.000000   46.000000    8.000000  1971.000000\n",
              "25%     16.900000    4.000000   75.000000   14.000000  1974.000000\n",
              "50%     22.000000    6.000000   95.000000   16.000000  1977.000000\n",
              "75%     28.800000    8.000000  138.000000   17.000000  1980.000000\n",
              "max     46.600000    8.000000  230.000000   25.000000  1983.000000"
            ]
          },
          "metadata": {
            "tags": []
          },
          "execution_count": 5
        }
      ]
    },
    {
      "cell_type": "code",
      "metadata": {
        "id": "RyaLHWJ5cnuw",
        "colab": {
          "base_uri": "https://localhost:8080/"
        },
        "outputId": "0b72d006-b4bc-4548-a4f6-47cdd36191ce"
      },
      "source": [
        "cars.shape"
      ],
      "execution_count": null,
      "outputs": [
        {
          "output_type": "execute_result",
          "data": {
            "text/plain": [
              "(261, 8)"
            ]
          },
          "metadata": {
            "tags": []
          },
          "execution_count": 6
        }
      ]
    },
    {
      "cell_type": "code",
      "metadata": {
        "id": "IWHOu7hwco3o",
        "colab": {
          "base_uri": "https://localhost:8080/"
        },
        "outputId": "0966d603-53ac-4d28-cb35-f4ffe132aff9"
      },
      "source": [
        "cars.isnull().sum()"
      ],
      "execution_count": null,
      "outputs": [
        {
          "output_type": "execute_result",
          "data": {
            "text/plain": [
              "mpg            0\n",
              "cylinders      0\n",
              "cubicinches    0\n",
              "hp             0\n",
              "weightlbs      0\n",
              "time-to-60     0\n",
              "year           0\n",
              "brand          0\n",
              "dtype: int64"
            ]
          },
          "metadata": {
            "tags": []
          },
          "execution_count": 7
        }
      ]
    },
    {
      "cell_type": "markdown",
      "metadata": {
        "id": "yI-CixsQeP9c"
      },
      "source": [
        "# Pré-processamento"
      ]
    },
    {
      "cell_type": "code",
      "metadata": {
        "id": "MNhvyHjxcvGo",
        "colab": {
          "base_uri": "https://localhost:8080/"
        },
        "outputId": "64a479a2-c205-48b5-f672-a00016ca8d6f"
      },
      "source": [
        "cars['brand'].unique()"
      ],
      "execution_count": null,
      "outputs": [
        {
          "output_type": "execute_result",
          "data": {
            "text/plain": [
              "array([' US.', ' Europe.', ' Japan.'], dtype=object)"
            ]
          },
          "metadata": {
            "tags": []
          },
          "execution_count": 8
        }
      ]
    },
    {
      "cell_type": "code",
      "metadata": {
        "id": "dO4ESgh0c7yg"
      },
      "source": [
        "#Mapeamento dos valores únicos\n",
        "\n",
        "name_to_class = {\n",
        "    ' US.' : 1,\n",
        "    ' Europe.': 2,\n",
        "    ' Japan.' : 3\n",
        "}"
      ],
      "execution_count": null,
      "outputs": []
    },
    {
      "cell_type": "code",
      "metadata": {
        "id": "IYSB69cQdWKQ",
        "colab": {
          "base_uri": "https://localhost:8080/"
        },
        "outputId": "0eecf3bd-deb4-4d27-dc30-5542e648e3ab"
      },
      "source": [
        "cars_2 = cars.copy()\n",
        "cars_2['brand'] = cars_2['brand'].map(name_to_class)\n",
        "cars_2.head()"
      ],
      "execution_count": null,
      "outputs": [
        {
          "output_type": "execute_result",
          "data": {
            "text/html": [
              "<div>\n",
              "<style scoped>\n",
              "    .dataframe tbody tr th:only-of-type {\n",
              "        vertical-align: middle;\n",
              "    }\n",
              "\n",
              "    .dataframe tbody tr th {\n",
              "        vertical-align: top;\n",
              "    }\n",
              "\n",
              "    .dataframe thead th {\n",
              "        text-align: right;\n",
              "    }\n",
              "</style>\n",
              "<table border=\"1\" class=\"dataframe\">\n",
              "  <thead>\n",
              "    <tr style=\"text-align: right;\">\n",
              "      <th></th>\n",
              "      <th>mpg</th>\n",
              "      <th>cylinders</th>\n",
              "      <th>cubicinches</th>\n",
              "      <th>hp</th>\n",
              "      <th>weightlbs</th>\n",
              "      <th>time-to-60</th>\n",
              "      <th>year</th>\n",
              "      <th>brand</th>\n",
              "    </tr>\n",
              "  </thead>\n",
              "  <tbody>\n",
              "    <tr>\n",
              "      <th>0</th>\n",
              "      <td>14.0</td>\n",
              "      <td>8</td>\n",
              "      <td>350</td>\n",
              "      <td>165</td>\n",
              "      <td>4209</td>\n",
              "      <td>12</td>\n",
              "      <td>1972</td>\n",
              "      <td>1</td>\n",
              "    </tr>\n",
              "    <tr>\n",
              "      <th>1</th>\n",
              "      <td>31.9</td>\n",
              "      <td>4</td>\n",
              "      <td>89</td>\n",
              "      <td>71</td>\n",
              "      <td>1925</td>\n",
              "      <td>14</td>\n",
              "      <td>1980</td>\n",
              "      <td>2</td>\n",
              "    </tr>\n",
              "    <tr>\n",
              "      <th>2</th>\n",
              "      <td>17.0</td>\n",
              "      <td>8</td>\n",
              "      <td>302</td>\n",
              "      <td>140</td>\n",
              "      <td>3449</td>\n",
              "      <td>11</td>\n",
              "      <td>1971</td>\n",
              "      <td>1</td>\n",
              "    </tr>\n",
              "    <tr>\n",
              "      <th>3</th>\n",
              "      <td>15.0</td>\n",
              "      <td>8</td>\n",
              "      <td>400</td>\n",
              "      <td>150</td>\n",
              "      <td>3761</td>\n",
              "      <td>10</td>\n",
              "      <td>1971</td>\n",
              "      <td>1</td>\n",
              "    </tr>\n",
              "    <tr>\n",
              "      <th>4</th>\n",
              "      <td>30.5</td>\n",
              "      <td>4</td>\n",
              "      <td>98</td>\n",
              "      <td>63</td>\n",
              "      <td>2051</td>\n",
              "      <td>17</td>\n",
              "      <td>1978</td>\n",
              "      <td>1</td>\n",
              "    </tr>\n",
              "  </tbody>\n",
              "</table>\n",
              "</div>"
            ],
            "text/plain": [
              "    mpg  cylinders cubicinches   hp weightlbs  time-to-60  year  brand\n",
              "0  14.0          8         350  165      4209          12  1972      1\n",
              "1  31.9          4          89   71      1925          14  1980      2\n",
              "2  17.0          8         302  140      3449          11  1971      1\n",
              "3  15.0          8         400  150      3761          10  1971      1\n",
              "4  30.5          4          98   63      2051          17  1978      1"
            ]
          },
          "metadata": {
            "tags": []
          },
          "execution_count": 10
        }
      ]
    },
    {
      "cell_type": "code",
      "metadata": {
        "id": "ACqcR8IZER_-",
        "colab": {
          "base_uri": "https://localhost:8080/"
        },
        "outputId": "e3722b84-5c76-4d95-c2a6-f328f551f915"
      },
      "source": [
        "#converte a coluna e transforma os valores nulos escondidos em NaN\n",
        "cars_2['cubicinches'] = pd.to_numeric(cars_2['cubicinches'], errors='coerce')\n",
        "cars_2['weightlbs'] = pd.to_numeric(cars_2['weightlbs'], errors='coerce')\n",
        "cars_2.head()"
      ],
      "execution_count": null,
      "outputs": [
        {
          "output_type": "execute_result",
          "data": {
            "text/html": [
              "<div>\n",
              "<style scoped>\n",
              "    .dataframe tbody tr th:only-of-type {\n",
              "        vertical-align: middle;\n",
              "    }\n",
              "\n",
              "    .dataframe tbody tr th {\n",
              "        vertical-align: top;\n",
              "    }\n",
              "\n",
              "    .dataframe thead th {\n",
              "        text-align: right;\n",
              "    }\n",
              "</style>\n",
              "<table border=\"1\" class=\"dataframe\">\n",
              "  <thead>\n",
              "    <tr style=\"text-align: right;\">\n",
              "      <th></th>\n",
              "      <th>mpg</th>\n",
              "      <th>cylinders</th>\n",
              "      <th>cubicinches</th>\n",
              "      <th>hp</th>\n",
              "      <th>weightlbs</th>\n",
              "      <th>time-to-60</th>\n",
              "      <th>year</th>\n",
              "      <th>brand</th>\n",
              "    </tr>\n",
              "  </thead>\n",
              "  <tbody>\n",
              "    <tr>\n",
              "      <th>0</th>\n",
              "      <td>14.0</td>\n",
              "      <td>8</td>\n",
              "      <td>350.0</td>\n",
              "      <td>165</td>\n",
              "      <td>4209.0</td>\n",
              "      <td>12</td>\n",
              "      <td>1972</td>\n",
              "      <td>1</td>\n",
              "    </tr>\n",
              "    <tr>\n",
              "      <th>1</th>\n",
              "      <td>31.9</td>\n",
              "      <td>4</td>\n",
              "      <td>89.0</td>\n",
              "      <td>71</td>\n",
              "      <td>1925.0</td>\n",
              "      <td>14</td>\n",
              "      <td>1980</td>\n",
              "      <td>2</td>\n",
              "    </tr>\n",
              "    <tr>\n",
              "      <th>2</th>\n",
              "      <td>17.0</td>\n",
              "      <td>8</td>\n",
              "      <td>302.0</td>\n",
              "      <td>140</td>\n",
              "      <td>3449.0</td>\n",
              "      <td>11</td>\n",
              "      <td>1971</td>\n",
              "      <td>1</td>\n",
              "    </tr>\n",
              "    <tr>\n",
              "      <th>3</th>\n",
              "      <td>15.0</td>\n",
              "      <td>8</td>\n",
              "      <td>400.0</td>\n",
              "      <td>150</td>\n",
              "      <td>3761.0</td>\n",
              "      <td>10</td>\n",
              "      <td>1971</td>\n",
              "      <td>1</td>\n",
              "    </tr>\n",
              "    <tr>\n",
              "      <th>4</th>\n",
              "      <td>30.5</td>\n",
              "      <td>4</td>\n",
              "      <td>98.0</td>\n",
              "      <td>63</td>\n",
              "      <td>2051.0</td>\n",
              "      <td>17</td>\n",
              "      <td>1978</td>\n",
              "      <td>1</td>\n",
              "    </tr>\n",
              "  </tbody>\n",
              "</table>\n",
              "</div>"
            ],
            "text/plain": [
              "    mpg  cylinders  cubicinches   hp  weightlbs  time-to-60  year  brand\n",
              "0  14.0          8        350.0  165     4209.0          12  1972      1\n",
              "1  31.9          4         89.0   71     1925.0          14  1980      2\n",
              "2  17.0          8        302.0  140     3449.0          11  1971      1\n",
              "3  15.0          8        400.0  150     3761.0          10  1971      1\n",
              "4  30.5          4         98.0   63     2051.0          17  1978      1"
            ]
          },
          "metadata": {
            "tags": []
          },
          "execution_count": 11
        }
      ]
    },
    {
      "cell_type": "code",
      "metadata": {
        "id": "D-vi6ZDuJ1nP",
        "colab": {
          "base_uri": "https://localhost:8080/"
        },
        "outputId": "e0902819-0316-46ab-c8f1-b61671f03305"
      },
      "source": [
        "cars_2.isnull().sum().sum()"
      ],
      "execution_count": null,
      "outputs": [
        {
          "output_type": "execute_result",
          "data": {
            "text/plain": [
              "5"
            ]
          },
          "metadata": {
            "tags": []
          },
          "execution_count": 12
        }
      ]
    },
    {
      "cell_type": "code",
      "metadata": {
        "id": "S3GI0RZWKp5L",
        "colab": {
          "base_uri": "https://localhost:8080/"
        },
        "outputId": "86386ade-fbbd-4f7a-82e0-df07f1766676"
      },
      "source": [
        "#verificando linhas com valores nulos\n",
        "cars_2.query('cubicinches != cubicinches')"
      ],
      "execution_count": null,
      "outputs": [
        {
          "output_type": "execute_result",
          "data": {
            "text/html": [
              "<div>\n",
              "<style scoped>\n",
              "    .dataframe tbody tr th:only-of-type {\n",
              "        vertical-align: middle;\n",
              "    }\n",
              "\n",
              "    .dataframe tbody tr th {\n",
              "        vertical-align: top;\n",
              "    }\n",
              "\n",
              "    .dataframe thead th {\n",
              "        text-align: right;\n",
              "    }\n",
              "</style>\n",
              "<table border=\"1\" class=\"dataframe\">\n",
              "  <thead>\n",
              "    <tr style=\"text-align: right;\">\n",
              "      <th></th>\n",
              "      <th>mpg</th>\n",
              "      <th>cylinders</th>\n",
              "      <th>cubicinches</th>\n",
              "      <th>hp</th>\n",
              "      <th>weightlbs</th>\n",
              "      <th>time-to-60</th>\n",
              "      <th>year</th>\n",
              "      <th>brand</th>\n",
              "    </tr>\n",
              "  </thead>\n",
              "  <tbody>\n",
              "    <tr>\n",
              "      <th>40</th>\n",
              "      <td>16.0</td>\n",
              "      <td>6</td>\n",
              "      <td>NaN</td>\n",
              "      <td>105</td>\n",
              "      <td>3897.0</td>\n",
              "      <td>19</td>\n",
              "      <td>1976</td>\n",
              "      <td>1</td>\n",
              "    </tr>\n",
              "    <tr>\n",
              "      <th>180</th>\n",
              "      <td>19.8</td>\n",
              "      <td>6</td>\n",
              "      <td>NaN</td>\n",
              "      <td>85</td>\n",
              "      <td>2990.0</td>\n",
              "      <td>18</td>\n",
              "      <td>1980</td>\n",
              "      <td>1</td>\n",
              "    </tr>\n",
              "  </tbody>\n",
              "</table>\n",
              "</div>"
            ],
            "text/plain": [
              "      mpg  cylinders  cubicinches   hp  weightlbs  time-to-60  year  brand\n",
              "40   16.0          6          NaN  105     3897.0          19  1976      1\n",
              "180  19.8          6          NaN   85     2990.0          18  1980      1"
            ]
          },
          "metadata": {
            "tags": []
          },
          "execution_count": 13
        }
      ]
    },
    {
      "cell_type": "code",
      "metadata": {
        "id": "6nr0nleJKG8X"
      },
      "source": [
        "cars_2.fillna(cars_2.mean(), inplace=True)"
      ],
      "execution_count": null,
      "outputs": []
    },
    {
      "cell_type": "code",
      "metadata": {
        "id": "HvQckQFIMdh2",
        "colab": {
          "base_uri": "https://localhost:8080/"
        },
        "outputId": "f20223ba-ab2a-459f-8a3a-16fad6216d8d"
      },
      "source": [
        "cars_2.describe()"
      ],
      "execution_count": null,
      "outputs": [
        {
          "output_type": "execute_result",
          "data": {
            "text/html": [
              "<div>\n",
              "<style scoped>\n",
              "    .dataframe tbody tr th:only-of-type {\n",
              "        vertical-align: middle;\n",
              "    }\n",
              "\n",
              "    .dataframe tbody tr th {\n",
              "        vertical-align: top;\n",
              "    }\n",
              "\n",
              "    .dataframe thead th {\n",
              "        text-align: right;\n",
              "    }\n",
              "</style>\n",
              "<table border=\"1\" class=\"dataframe\">\n",
              "  <thead>\n",
              "    <tr style=\"text-align: right;\">\n",
              "      <th></th>\n",
              "      <th>mpg</th>\n",
              "      <th>cylinders</th>\n",
              "      <th>cubicinches</th>\n",
              "      <th>hp</th>\n",
              "      <th>weightlbs</th>\n",
              "      <th>time-to-60</th>\n",
              "      <th>year</th>\n",
              "      <th>brand</th>\n",
              "    </tr>\n",
              "  </thead>\n",
              "  <tbody>\n",
              "    <tr>\n",
              "      <th>count</th>\n",
              "      <td>261.000000</td>\n",
              "      <td>261.000000</td>\n",
              "      <td>261.000000</td>\n",
              "      <td>261.000000</td>\n",
              "      <td>261.000000</td>\n",
              "      <td>261.000000</td>\n",
              "      <td>261.000000</td>\n",
              "      <td>261.000000</td>\n",
              "    </tr>\n",
              "    <tr>\n",
              "      <th>mean</th>\n",
              "      <td>23.144828</td>\n",
              "      <td>5.590038</td>\n",
              "      <td>200.918919</td>\n",
              "      <td>106.360153</td>\n",
              "      <td>3009.833333</td>\n",
              "      <td>15.547893</td>\n",
              "      <td>1976.819923</td>\n",
              "      <td>1.574713</td>\n",
              "    </tr>\n",
              "    <tr>\n",
              "      <th>std</th>\n",
              "      <td>7.823570</td>\n",
              "      <td>1.733310</td>\n",
              "      <td>108.837269</td>\n",
              "      <td>40.499959</td>\n",
              "      <td>849.097575</td>\n",
              "      <td>2.910625</td>\n",
              "      <td>3.637696</td>\n",
              "      <td>0.798540</td>\n",
              "    </tr>\n",
              "    <tr>\n",
              "      <th>min</th>\n",
              "      <td>10.000000</td>\n",
              "      <td>3.000000</td>\n",
              "      <td>68.000000</td>\n",
              "      <td>46.000000</td>\n",
              "      <td>1613.000000</td>\n",
              "      <td>8.000000</td>\n",
              "      <td>1971.000000</td>\n",
              "      <td>1.000000</td>\n",
              "    </tr>\n",
              "    <tr>\n",
              "      <th>25%</th>\n",
              "      <td>16.900000</td>\n",
              "      <td>4.000000</td>\n",
              "      <td>101.000000</td>\n",
              "      <td>75.000000</td>\n",
              "      <td>2254.000000</td>\n",
              "      <td>14.000000</td>\n",
              "      <td>1974.000000</td>\n",
              "      <td>1.000000</td>\n",
              "    </tr>\n",
              "    <tr>\n",
              "      <th>50%</th>\n",
              "      <td>22.000000</td>\n",
              "      <td>6.000000</td>\n",
              "      <td>156.000000</td>\n",
              "      <td>95.000000</td>\n",
              "      <td>2904.000000</td>\n",
              "      <td>16.000000</td>\n",
              "      <td>1977.000000</td>\n",
              "      <td>1.000000</td>\n",
              "    </tr>\n",
              "    <tr>\n",
              "      <th>75%</th>\n",
              "      <td>28.800000</td>\n",
              "      <td>8.000000</td>\n",
              "      <td>302.000000</td>\n",
              "      <td>138.000000</td>\n",
              "      <td>3664.000000</td>\n",
              "      <td>17.000000</td>\n",
              "      <td>1980.000000</td>\n",
              "      <td>2.000000</td>\n",
              "    </tr>\n",
              "    <tr>\n",
              "      <th>max</th>\n",
              "      <td>46.600000</td>\n",
              "      <td>8.000000</td>\n",
              "      <td>455.000000</td>\n",
              "      <td>230.000000</td>\n",
              "      <td>4997.000000</td>\n",
              "      <td>25.000000</td>\n",
              "      <td>1983.000000</td>\n",
              "      <td>3.000000</td>\n",
              "    </tr>\n",
              "  </tbody>\n",
              "</table>\n",
              "</div>"
            ],
            "text/plain": [
              "              mpg   cylinders  cubicinches  ...  time-to-60         year       brand\n",
              "count  261.000000  261.000000   261.000000  ...  261.000000   261.000000  261.000000\n",
              "mean    23.144828    5.590038   200.918919  ...   15.547893  1976.819923    1.574713\n",
              "std      7.823570    1.733310   108.837269  ...    2.910625     3.637696    0.798540\n",
              "min     10.000000    3.000000    68.000000  ...    8.000000  1971.000000    1.000000\n",
              "25%     16.900000    4.000000   101.000000  ...   14.000000  1974.000000    1.000000\n",
              "50%     22.000000    6.000000   156.000000  ...   16.000000  1977.000000    1.000000\n",
              "75%     28.800000    8.000000   302.000000  ...   17.000000  1980.000000    2.000000\n",
              "max     46.600000    8.000000   455.000000  ...   25.000000  1983.000000    3.000000\n",
              "\n",
              "[8 rows x 8 columns]"
            ]
          },
          "metadata": {
            "tags": []
          },
          "execution_count": 15
        }
      ]
    },
    {
      "cell_type": "code",
      "metadata": {
        "id": "cVsm6IvHOpvj"
      },
      "source": [
        "cars_corr = cars_2[['cylinders', 'mpg']].corr()"
      ],
      "execution_count": null,
      "outputs": []
    },
    {
      "cell_type": "code",
      "metadata": {
        "id": "Y1P__KglOqOy",
        "colab": {
          "base_uri": "https://localhost:8080/"
        },
        "outputId": "03940c17-4770-45c4-a7ae-1e5fc5a959b6"
      },
      "source": [
        "#verificando a correlação de Pearson\n",
        "plt.figure(figsize=(12,10))\n",
        "sns.heatmap(cars_corr, annot=True, vmax=1, vmin=-1)\n",
        "plt.yticks(rotation=0)\n",
        "plt.show()"
      ],
      "execution_count": null,
      "outputs": [
        {
          "output_type": "display_data",
          "data": {
            "image/png": "[encoded data removed]",
            "text/plain": [
              "<Figure size 864x720 with 2 Axes>"
            ]
          },
          "metadata": {
            "tags": [],
            "needs_background": "light"
          }
        }
      ]
    },
    {
      "cell_type": "code",
      "metadata": {
        "id": "w-j7RzG2OqUH",
        "colab": {
          "base_uri": "https://localhost:8080/"
        },
        "outputId": "8f35430c-5e77-43f0-fe3b-31fea9c390b4"
      },
      "source": [
        "plt.figure(figsize=(12, 10))\n",
        "sns.boxplot(x='hp', data=cars_2)\n",
        "plt.show()"
      ],
      "execution_count": null,
      "outputs": [
        {
          "output_type": "display_data",
          "data": {
            "image/png": "[encoded data removed]",
            "text/plain": [
              "<Figure size 864x720 with 1 Axes>"
            ]
          },
          "metadata": {
            "tags": [],
            "needs_background": "light"
          }
        }
      ]
    },
    {
      "cell_type": "code",
      "metadata": {
        "id": "MD9qMrijh9Gg"
      },
      "source": [
        "X = np.array(cars_2.iloc[:, :-1])\n",
        "Y = np.array(cars_2['brand'])"
      ],
      "execution_count": null,
      "outputs": []
    },
    {
      "cell_type": "code",
      "metadata": {
        "id": "uHSXaamAUiyt"
      },
      "source": [
        "from sklearn.preprocessing import StandardScaler\n",
        "#normaliza = StandardScaler().fit(cars_2[['hp']]) #objeto para a normalização\n",
        "#cars_2['hp'] = normaliza.transform(cars_2[['hp']])\n",
        "#cars_2.describe()"
      ],
      "execution_count": null,
      "outputs": []
    },
    {
      "cell_type": "code",
      "metadata": {
        "id": "kC6TWdZygQux"
      },
      "source": [
        "normaliza = StandardScaler().fit(X)\n",
        "X = normaliza.transform(X)"
      ],
      "execution_count": null,
      "outputs": []
    },
    {
      "cell_type": "code",
      "metadata": {
        "id": "b1zcxn_ldj_o",
        "colab": {
          "base_uri": "https://localhost:8080/"
        },
        "outputId": "b6a628d2-dba1-4200-90a8-231ff10f0fb4"
      },
      "source": [
        "from sklearn.decomposition import PCA\n",
        "pca = PCA(n_components=7) #Objeto para redução de dimensionalidade\n",
        "pca.fit(X)\n",
        "print(pca.explained_variance_ratio_)"
      ],
      "execution_count": null,
      "outputs": [
        {
          "output_type": "stream",
          "text": [
            "[0.72371349 0.12675138 0.09126131 0.02773591 0.01766794 0.00798425\n",
            " 0.00488572]\n"
          ],
          "name": "stdout"
        }
      ]
    },
    {
      "cell_type": "code",
      "metadata": {
        "id": "NPP39hgpnT5h",
        "colab": {
          "base_uri": "https://localhost:8080/"
        },
        "outputId": "555080d8-f725-49d1-f66d-e8882c30645c"
      },
      "source": [
        "from sklearn.decomposition import PCA\n",
        "pca_2 = PCA(n_components=3) #Objeto para redução de dimensionalidade\n",
        "pca_2.fit(X)\n",
        "print(pca_2.explained_variance_ratio_)"
      ],
      "execution_count": null,
      "outputs": [
        {
          "output_type": "stream",
          "text": [
            "[0.72371349 0.12675138 0.09126131]\n"
          ],
          "name": "stdout"
        }
      ]
    },
    {
      "cell_type": "markdown",
      "metadata": {
        "id": "-mOTN19QEGHu"
      },
      "source": [
        "# K-means"
      ]
    },
    {
      "cell_type": "code",
      "metadata": {
        "id": "f3KnxbL3Bxsd"
      },
      "source": [
        "from sklearn.cluster import KMeans\n",
        "data = pca_2.components_\n",
        "kmeans_model = KMeans(n_clusters=3,random_state=42).fit(data)"
      ],
      "execution_count": null,
      "outputs": []
    },
    {
      "cell_type": "code",
      "metadata": {
        "id": "yiMD_JHdnAA_",
        "colab": {
          "base_uri": "https://localhost:8080/"
        },
        "outputId": "cdd79435-dd06-4426-d64a-d26926b071f5"
      },
      "source": [
        "centroids = kmeans_model.cluster_centers_\n",
        "labels = kmeans_model.labels_\n",
        "print(centroids)\n",
        "print(labels)"
      ],
      "execution_count": null,
      "outputs": [
        {
          "output_type": "stream",
          "text": [
            "[[-0.19235786 -0.19070807 -0.16849764 -0.08613966 -0.2292615  -0.02652165\n",
            "  -0.9151793 ]\n",
            " [-0.39506171  0.41462456  0.42751253  0.42083433  0.40887239 -0.3142291\n",
            "  -0.2150062 ]\n",
            " [-0.2680554   0.1391496   0.10340802 -0.185907    0.31224967  0.87177683\n",
            "  -0.07768119]]\n",
            "[1 0 2]\n"
          ],
          "name": "stdout"
        }
      ]
    },
    {
      "cell_type": "code",
      "metadata": {
        "id": "6EqCo9MMCfs7"
      },
      "source": [
        "#usando a função apply para criar uma nova coluna\n",
        "cars_2['efficiency'] = cars_2.apply(lambda row: 1 if row.mpg > 25 else 0, axis=1)"
      ],
      "execution_count": null,
      "outputs": []
    },
    {
      "cell_type": "code",
      "metadata": {
        "id": "r1_mh8L8ydBi",
        "colab": {
          "base_uri": "https://localhost:8080/"
        },
        "outputId": "2737e3f1-46ac-48d9-c871-08e98e6f6b6c"
      },
      "source": [
        "cars_2.drop('brand', axis=1, inplace=True)\n",
        "cars_2.head()"
      ],
      "execution_count": null,
      "outputs": [
        {
          "output_type": "execute_result",
          "data": {
            "text/html": [
              "<div>\n",
              "<style scoped>\n",
              "    .dataframe tbody tr th:only-of-type {\n",
              "        vertical-align: middle;\n",
              "    }\n",
              "\n",
              "    .dataframe tbody tr th {\n",
              "        vertical-align: top;\n",
              "    }\n",
              "\n",
              "    .dataframe thead th {\n",
              "        text-align: right;\n",
              "    }\n",
              "</style>\n",
              "<table border=\"1\" class=\"dataframe\">\n",
              "  <thead>\n",
              "    <tr style=\"text-align: right;\">\n",
              "      <th></th>\n",
              "      <th>mpg</th>\n",
              "      <th>cylinders</th>\n",
              "      <th>cubicinches</th>\n",
              "      <th>hp</th>\n",
              "      <th>weightlbs</th>\n",
              "      <th>time-to-60</th>\n",
              "      <th>year</th>\n",
              "      <th>efficiency</th>\n",
              "    </tr>\n",
              "  </thead>\n",
              "  <tbody>\n",
              "    <tr>\n",
              "      <th>0</th>\n",
              "      <td>14.0</td>\n",
              "      <td>8</td>\n",
              "      <td>350.0</td>\n",
              "      <td>165</td>\n",
              "      <td>4209.0</td>\n",
              "      <td>12</td>\n",
              "      <td>1972</td>\n",
              "      <td>0</td>\n",
              "    </tr>\n",
              "    <tr>\n",
              "      <th>1</th>\n",
              "      <td>31.9</td>\n",
              "      <td>4</td>\n",
              "      <td>89.0</td>\n",
              "      <td>71</td>\n",
              "      <td>1925.0</td>\n",
              "      <td>14</td>\n",
              "      <td>1980</td>\n",
              "      <td>1</td>\n",
              "    </tr>\n",
              "    <tr>\n",
              "      <th>2</th>\n",
              "      <td>17.0</td>\n",
              "      <td>8</td>\n",
              "      <td>302.0</td>\n",
              "      <td>140</td>\n",
              "      <td>3449.0</td>\n",
              "      <td>11</td>\n",
              "      <td>1971</td>\n",
              "      <td>0</td>\n",
              "    </tr>\n",
              "    <tr>\n",
              "      <th>3</th>\n",
              "      <td>15.0</td>\n",
              "      <td>8</td>\n",
              "      <td>400.0</td>\n",
              "      <td>150</td>\n",
              "      <td>3761.0</td>\n",
              "      <td>10</td>\n",
              "      <td>1971</td>\n",
              "      <td>0</td>\n",
              "    </tr>\n",
              "    <tr>\n",
              "      <th>4</th>\n",
              "      <td>30.5</td>\n",
              "      <td>4</td>\n",
              "      <td>98.0</td>\n",
              "      <td>63</td>\n",
              "      <td>2051.0</td>\n",
              "      <td>17</td>\n",
              "      <td>1978</td>\n",
              "      <td>1</td>\n",
              "    </tr>\n",
              "  </tbody>\n",
              "</table>\n",
              "</div>"
            ],
            "text/plain": [
              "    mpg  cylinders  cubicinches   hp  weightlbs  time-to-60  year  efficiency\n",
              "0  14.0          8        350.0  165     4209.0          12  1972           0\n",
              "1  31.9          4         89.0   71     1925.0          14  1980           1\n",
              "2  17.0          8        302.0  140     3449.0          11  1971           0\n",
              "3  15.0          8        400.0  150     3761.0          10  1971           0\n",
              "4  30.5          4         98.0   63     2051.0          17  1978           1"
            ]
          },
          "metadata": {
            "tags": []
          },
          "execution_count": 27
        }
      ]
    },
    {
      "cell_type": "code",
      "metadata": {
        "id": "IQQAFhTX2FVX",
        "colab": {
          "base_uri": "https://localhost:8080/"
        },
        "outputId": "435127e3-f01b-42d8-897a-c8e4d8e88edd"
      },
      "source": [
        "X = np.array(cars_2.iloc[:, 1: -2]) #cylinders', 'cubicinches', 'hp', 'weightlbs', 'time-to-60'\n",
        "Y = np.array(cars_2.iloc[:, -1]) #Todas as linhas da última coluna\n",
        "X"
      ],
      "execution_count": null,
      "outputs": [
        {
          "output_type": "execute_result",
          "data": {
            "text/plain": [
              "array([[8.000e+00, 3.500e+02, 1.650e+02, 4.209e+03, 1.200e+01],\n",
              "       [4.000e+00, 8.900e+01, 7.100e+01, 1.925e+03, 1.400e+01],\n",
              "       [8.000e+00, 3.020e+02, 1.400e+02, 3.449e+03, 1.100e+01],\n",
              "       ...,\n",
              "       [6.000e+00, 2.320e+02, 1.120e+02, 2.835e+03, 1.500e+01],\n",
              "       [6.000e+00, 2.320e+02, 1.000e+02, 3.288e+03, 1.600e+01],\n",
              "       [6.000e+00, 2.500e+02, 1.050e+02, 3.353e+03, 1.500e+01]])"
            ]
          },
          "metadata": {
            "tags": []
          },
          "execution_count": 28
        }
      ]
    },
    {
      "cell_type": "code",
      "metadata": {
        "id": "dfOCAk-uCYkc"
      },
      "source": [
        "# importar train_test_split do scikitlearn \n",
        "from sklearn.model_selection import train_test_split\n",
        "x_train, x_test, y_train, y_test = train_test_split(X, Y, test_size=0.30, random_state=42)"
      ],
      "execution_count": null,
      "outputs": []
    },
    {
      "cell_type": "markdown",
      "metadata": {
        "id": "voelzNlc3ncE"
      },
      "source": [
        "# **Árvore de Decisão**"
      ]
    },
    {
      "cell_type": "code",
      "metadata": {
        "id": "HENCEhvY3lo1",
        "colab": {
          "base_uri": "https://localhost:8080/"
        },
        "outputId": "16829927-e535-4d4a-9076-773cc59fa480"
      },
      "source": [
        "from sklearn.tree import DecisionTreeClassifier #Importando o modelo de árvore de decisão\n",
        "clf_tree = DecisionTreeClassifier(random_state=42)#instanciando a árvore de decisão\n",
        "clf_tree.fit(x_train, y_train) #Treinando o modelo"
      ],
      "execution_count": null,
      "outputs": [
        {
          "output_type": "execute_result",
          "data": {
            "text/plain": [
              "DecisionTreeClassifier(ccp_alpha=0.0, class_weight=None, criterion='gini',\n",
              "                       max_depth=None, max_features=None, max_leaf_nodes=None,\n",
              "                       min_impurity_decrease=0.0, min_impurity_split=None,\n",
              "                       min_samples_leaf=1, min_samples_split=2,\n",
              "                       min_weight_fraction_leaf=0.0, presort='deprecated',\n",
              "                       random_state=42, splitter='best')"
            ]
          },
          "metadata": {
            "tags": []
          },
          "execution_count": 30
        }
      ]
    },
    {
      "cell_type": "code",
      "metadata": {
        "id": "SuTOSd1Q3yY8"
      },
      "source": [
        "y_pred = clf_tree.predict(x_test)"
      ],
      "execution_count": null,
      "outputs": []
    },
    {
      "cell_type": "code",
      "metadata": {
        "id": "5IEk13Pm4LLb",
        "colab": {
          "base_uri": "https://localhost:8080/"
        },
        "outputId": "4d387911-53e3-4352-fbea-879208a5d2c5"
      },
      "source": [
        "p = pd.DataFrame({'Real': y_test, 'Previsto': y_pred})  \n",
        "p.head(10)"
      ],
      "execution_count": null,
      "outputs": [
        {
          "output_type": "execute_result",
          "data": {
            "text/html": [
              "<div>\n",
              "<style scoped>\n",
              "    .dataframe tbody tr th:only-of-type {\n",
              "        vertical-align: middle;\n",
              "    }\n",
              "\n",
              "    .dataframe tbody tr th {\n",
              "        vertical-align: top;\n",
              "    }\n",
              "\n",
              "    .dataframe thead th {\n",
              "        text-align: right;\n",
              "    }\n",
              "</style>\n",
              "<table border=\"1\" class=\"dataframe\">\n",
              "  <thead>\n",
              "    <tr style=\"text-align: right;\">\n",
              "      <th></th>\n",
              "      <th>Real</th>\n",
              "      <th>Previsto</th>\n",
              "    </tr>\n",
              "  </thead>\n",
              "  <tbody>\n",
              "    <tr>\n",
              "      <th>0</th>\n",
              "      <td>1</td>\n",
              "      <td>1</td>\n",
              "    </tr>\n",
              "    <tr>\n",
              "      <th>1</th>\n",
              "      <td>1</td>\n",
              "      <td>1</td>\n",
              "    </tr>\n",
              "    <tr>\n",
              "      <th>2</th>\n",
              "      <td>1</td>\n",
              "      <td>1</td>\n",
              "    </tr>\n",
              "    <tr>\n",
              "      <th>3</th>\n",
              "      <td>0</td>\n",
              "      <td>1</td>\n",
              "    </tr>\n",
              "    <tr>\n",
              "      <th>4</th>\n",
              "      <td>0</td>\n",
              "      <td>0</td>\n",
              "    </tr>\n",
              "    <tr>\n",
              "      <th>5</th>\n",
              "      <td>1</td>\n",
              "      <td>1</td>\n",
              "    </tr>\n",
              "    <tr>\n",
              "      <th>6</th>\n",
              "      <td>1</td>\n",
              "      <td>1</td>\n",
              "    </tr>\n",
              "    <tr>\n",
              "      <th>7</th>\n",
              "      <td>1</td>\n",
              "      <td>1</td>\n",
              "    </tr>\n",
              "    <tr>\n",
              "      <th>8</th>\n",
              "      <td>1</td>\n",
              "      <td>1</td>\n",
              "    </tr>\n",
              "    <tr>\n",
              "      <th>9</th>\n",
              "      <td>0</td>\n",
              "      <td>0</td>\n",
              "    </tr>\n",
              "  </tbody>\n",
              "</table>\n",
              "</div>"
            ],
            "text/plain": [
              "   Real  Previsto\n",
              "0     1         1\n",
              "1     1         1\n",
              "2     1         1\n",
              "3     0         1\n",
              "4     0         0\n",
              "5     1         1\n",
              "6     1         1\n",
              "7     1         1\n",
              "8     1         1\n",
              "9     0         0"
            ]
          },
          "metadata": {
            "tags": []
          },
          "execution_count": 32
        }
      ]
    },
    {
      "cell_type": "code",
      "metadata": {
        "id": "kogbK3nO4dTz",
        "colab": {
          "base_uri": "https://localhost:8080/"
        },
        "outputId": "68cb8677-ddbe-4194-d5e1-3ce0a5387778"
      },
      "source": [
        "from sklearn import metrics\n",
        "#avaliando o modelo de Árvore de Decisão\n",
        "print('Matriz de Confusão\\n', metrics.confusion_matrix(y_test, y_pred)) \n",
        "print('\\nAcurácia\\n', metrics.accuracy_score(y_test, y_pred))\n",
        "print('\\nAcurácia Balanceada por classe\\n', metrics.balanced_accuracy_score(y_test, y_pred))\n",
        "print('\\nPrecision\\n', metrics.precision_score(y_test, y_pred))\n",
        "print('\\nRecall\\n', metrics.recall_score(y_test, y_pred)) \n",
        "print('\\nF1\\n', metrics.f1_score(y_test, y_pred)) \n"
      ],
      "execution_count": null,
      "outputs": [
        {
          "output_type": "stream",
          "text": [
            "Matriz de Confusão\n",
            " [[33  8]\n",
            " [ 2 36]]\n",
            "\n",
            "Acurácia\n",
            " 0.8734177215189873\n",
            "\n",
            "Acurácia Balanceada por classe\n",
            " 0.8761232349165597\n",
            "\n",
            "Precision\n",
            " 0.8181818181818182\n",
            "\n",
            "Recall\n",
            " 0.9473684210526315\n",
            "\n",
            "F1\n",
            " 0.8780487804878049\n"
          ],
          "name": "stdout"
        }
      ]
    },
    {
      "cell_type": "code",
      "metadata": {
        "id": "0K1LFivh4uBV",
        "colab": {
          "base_uri": "https://localhost:8080/"
        },
        "outputId": "e8a19b10-a831-4bd6-8f0a-79e74fd08e60"
      },
      "source": [
        "from sklearn.linear_model import LogisticRegression #importando o modelo de Regressão Logística\n",
        "clf_log_reg = LogisticRegression(random_state=42) #instanciando o modelo\n",
        "clf_log_reg.fit(x_train, y_train) #treinando o modelo"
      ],
      "execution_count": null,
      "outputs": [
        {
          "output_type": "stream",
          "text": [
            "/usr/local/lib/python3.6/dist-packages/sklearn/linear_model/_logistic.py:940: ConvergenceWarning: lbfgs failed to converge (status=1):\n",
            "STOP: TOTAL NO. of ITERATIONS REACHED LIMIT.\n",
            "\n",
            "Increase the number of iterations (max_iter) or scale the data as shown in:\n",
            "    https://scikit-learn.org/stable/modules/preprocessing.html\n",
            "Please also refer to the documentation for alternative solver options:\n",
            "    https://scikit-learn.org/stable/modules/linear_model.html#logistic-regression\n",
            "  extra_warning_msg=_LOGISTIC_SOLVER_CONVERGENCE_MSG)\n"
          ],
          "name": "stderr"
        },
        {
          "output_type": "execute_result",
          "data": {
            "text/plain": [
              "LogisticRegression(C=1.0, class_weight=None, dual=False, fit_intercept=True,\n",
              "                   intercept_scaling=1, l1_ratio=None, max_iter=100,\n",
              "                   multi_class='auto', n_jobs=None, penalty='l2',\n",
              "                   random_state=42, solver='lbfgs', tol=0.0001, verbose=0,\n",
              "                   warm_start=False)"
            ]
          },
          "metadata": {
            "tags": []
          },
          "execution_count": 34
        }
      ]
    },
    {
      "cell_type": "code",
      "metadata": {
        "id": "qKEHAO9r65Aj"
      },
      "source": [
        "y_pred = clf_log_reg.predict(x_test) #realizando previsão com o modelo treinado"
      ],
      "execution_count": null,
      "outputs": []
    },
    {
      "cell_type": "code",
      "metadata": {
        "id": "sx-02X_P7HjC",
        "colab": {
          "base_uri": "https://localhost:8080/"
        },
        "outputId": "84a1fe33-1afa-4796-cf2e-6fe919b9a584"
      },
      "source": [
        "p2 = pd.DataFrame({'Real': y_test, 'Previsto': y_pred})  \n",
        "p2.head(10)"
      ],
      "execution_count": null,
      "outputs": [
        {
          "output_type": "execute_result",
          "data": {
            "text/html": [
              "<div>\n",
              "<style scoped>\n",
              "    .dataframe tbody tr th:only-of-type {\n",
              "        vertical-align: middle;\n",
              "    }\n",
              "\n",
              "    .dataframe tbody tr th {\n",
              "        vertical-align: top;\n",
              "    }\n",
              "\n",
              "    .dataframe thead th {\n",
              "        text-align: right;\n",
              "    }\n",
              "</style>\n",
              "<table border=\"1\" class=\"dataframe\">\n",
              "  <thead>\n",
              "    <tr style=\"text-align: right;\">\n",
              "      <th></th>\n",
              "      <th>Real</th>\n",
              "      <th>Previsto</th>\n",
              "    </tr>\n",
              "  </thead>\n",
              "  <tbody>\n",
              "    <tr>\n",
              "      <th>0</th>\n",
              "      <td>1</td>\n",
              "      <td>1</td>\n",
              "    </tr>\n",
              "    <tr>\n",
              "      <th>1</th>\n",
              "      <td>1</td>\n",
              "      <td>1</td>\n",
              "    </tr>\n",
              "    <tr>\n",
              "      <th>2</th>\n",
              "      <td>1</td>\n",
              "      <td>1</td>\n",
              "    </tr>\n",
              "    <tr>\n",
              "      <th>3</th>\n",
              "      <td>0</td>\n",
              "      <td>0</td>\n",
              "    </tr>\n",
              "    <tr>\n",
              "      <th>4</th>\n",
              "      <td>0</td>\n",
              "      <td>0</td>\n",
              "    </tr>\n",
              "    <tr>\n",
              "      <th>5</th>\n",
              "      <td>1</td>\n",
              "      <td>1</td>\n",
              "    </tr>\n",
              "    <tr>\n",
              "      <th>6</th>\n",
              "      <td>1</td>\n",
              "      <td>0</td>\n",
              "    </tr>\n",
              "    <tr>\n",
              "      <th>7</th>\n",
              "      <td>1</td>\n",
              "      <td>1</td>\n",
              "    </tr>\n",
              "    <tr>\n",
              "      <th>8</th>\n",
              "      <td>1</td>\n",
              "      <td>1</td>\n",
              "    </tr>\n",
              "    <tr>\n",
              "      <th>9</th>\n",
              "      <td>0</td>\n",
              "      <td>0</td>\n",
              "    </tr>\n",
              "  </tbody>\n",
              "</table>\n",
              "</div>"
            ],
            "text/plain": [
              "   Real  Previsto\n",
              "0     1         1\n",
              "1     1         1\n",
              "2     1         1\n",
              "3     0         0\n",
              "4     0         0\n",
              "5     1         1\n",
              "6     1         0\n",
              "7     1         1\n",
              "8     1         1\n",
              "9     0         0"
            ]
          },
          "metadata": {
            "tags": []
          },
          "execution_count": 36
        }
      ]
    },
    {
      "cell_type": "code",
      "metadata": {
        "id": "gEYJHLIL7Kgp",
        "colab": {
          "base_uri": "https://localhost:8080/"
        },
        "outputId": "9e21d7c8-a6b2-4c7f-9b22-c1097fedc612"
      },
      "source": [
        "#avaliando o modelo de Regresão Logística\n",
        "print('Matriz de Confusão\\n', metrics.confusion_matrix(y_test, y_pred)) \n",
        "print('\\nAcurácia\\n', metrics.accuracy_score(y_test, y_pred))\n",
        "print('\\nAcurácia Balanceada por classe\\n', metrics.balanced_accuracy_score(y_test, y_pred))\n",
        "print('\\nPrecision\\n', metrics.precision_score(y_test, y_pred))\n",
        "print('\\nRecall\\n', metrics.recall_score(y_test, y_pred)) \n",
        "print('\\nF1\\n', metrics.f1_score(y_test, y_pred))"
      ],
      "execution_count": null,
      "outputs": [
        {
          "output_type": "stream",
          "text": [
            "Matriz de Confusão\n",
            " [[36  5]\n",
            " [ 6 32]]\n",
            "\n",
            "Acurácia\n",
            " 0.8607594936708861\n",
            "\n",
            "Acurácia Balanceada por classe\n",
            " 0.8600770218228497\n",
            "\n",
            "Precision\n",
            " 0.8648648648648649\n",
            "\n",
            "Recall\n",
            " 0.8421052631578947\n",
            "\n",
            "F1\n",
            " 0.8533333333333334\n"
          ],
          "name": "stdout"
        }
      ]
    },
    {
      "cell_type": "code",
      "metadata": {
        "id": "-O-696hF7VaB"
      },
      "source": [
        ""
      ],
      "execution_count": null,
      "outputs": []
    }
  ]
}